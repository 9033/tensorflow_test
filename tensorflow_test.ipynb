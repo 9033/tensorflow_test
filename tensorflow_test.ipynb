{
  "nbformat": 4,
  "nbformat_minor": 0,
  "metadata": {
    "colab": {
      "name": "tensorflow_test.ipynb",
      "version": "0.3.2",
      "provenance": [],
      "include_colab_link": true
    },
    "kernelspec": {
      "name": "python3",
      "display_name": "Python 3"
    }
  },
  "cells": [
    {
      "cell_type": "markdown",
      "metadata": {
        "id": "view-in-github",
        "colab_type": "text"
      },
      "source": [
        "<a href=\"https://colab.research.google.com/github/9033/tensorflow_test/blob/master/tensorflow_test.ipynb\" target=\"_parent\"><img src=\"https://colab.research.google.com/assets/colab-badge.svg\" alt=\"Open In Colab\"/></a>"
      ]
    },
    {
      "cell_type": "markdown",
      "metadata": {
        "id": "t5ELzUnAPeRb",
        "colab_type": "text"
      },
      "source": [
        "'파일'에다가 필요한 파일을 업로드 하면됨.  \n",
        "다운로드도 가능"
      ]
    },
    {
      "cell_type": "code",
      "metadata": {
        "id": "Qy9oylzqNyJn",
        "colab_type": "code",
        "colab": {}
      },
      "source": [
        "import sqlite3\n",
        "conn = sqlite3.connect('busloc.sqlite3')\n",
        "cur=conn.cursor()\n",
        "cur.execute(\"\"\"\n",
        "DROP TABLE IF EXISTS busloc;\n",
        "\"\"\")\n",
        "cur.execute(\"\"\"\n",
        "CREATE TABLE busloc(\n",
        "    item_id INTEGER PRIMARY KEY,\n",
        "    time DATE NOT NULL,\n",
        "    plateno VARCHAR(24),\n",
        "    remainseatcnt INTEGER UNSIGNED,\n",
        "    routeid VARCHAR(16),\n",
        "    stationid VARCHAR(16),\n",
        "    stationseq INTEGER UNSIGNED    \n",
        ");\n",
        "\"\"\")\n",
        "conn.commit()"
      ],
      "execution_count": 0,
      "outputs": []
    }
  ]
}