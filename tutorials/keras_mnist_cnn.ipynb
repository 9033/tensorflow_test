{
 "cells": [
  {
   "cell_type": "code",
   "execution_count": 1,
   "metadata": {},
   "outputs": [
    {
     "name": "stdout",
     "output_type": "stream",
     "text": "C:\\Users\\q\\Anaconda3\\pkgs\\cudatoolkit-10.0.130-0\\Library\\binC:\\Users\\q\\Anaconda3\\pkgs\\cudatoolkit-10.0.130-0\\DLLsC:\\Users\\q\\Anaconda3\\pkgs\\cudnn-7.6.4-cuda10.0_0\\Library\\lib\\x64C:\\Users\\q\\Anaconda3\\pkgs\\cudnn-7.6.4-cuda10.0_0\\Library\\binC:\\Users\\q\\Anaconda3\\pkgs\\cudnn-7.6.4-cuda10.0_0\\Library\\includeC:\\Users\\q\\Anaconda3;C:\\Users\\q\\Anaconda3\\Library\\mingw-w64\\bin;C:\\Users\\q\\Anaconda3\\Library\\usr\\bin;C:\\Users\\q\\Anaconda3\\Library\\bin;C:\\Users\\q\\Anaconda3\\Scripts;C:\\Users\\q\\Anaconda3\\bin;C:\\Users\\q\\Anaconda3\\condabin;C:\\WINDOWS\\system32;C:\\WINDOWS;C:\\WINDOWS\\System32\\Wbem;C:\\WINDOWS\\System32\\WindowsPowerShell\\v1.0;C:\\WINDOWS\\System32\\OpenSSH;C:\\Program Files (x86)\\NVIDIA Corporation\\PhysX\\Common;C:\\Program Files\\Git\\cmd;C:\\Program Files\\NVIDIA Corporation\\NVIDIA NvDLISR;C:\\Users\\q\\AppData\\Local\\Microsoft\\WindowsApps;C:\\Users\\q\\AppData\\Local\\Programs\\Microsoft VS Code\\bin;C:\\Users\\q\\AppData\\Local\\Programs\\Python\\Python37;C:\\Users\\q\\AppData\\Local\\Programs\\Python\\Python37\\Scripts;C:\\MinGW\\bin;.\n"
    }
   ],
   "source": [
    "import os\n",
    "import pathlib\n",
    "ospath=os.environ['PATH']\n",
    "os.environ['PATH']=str(pathlib.PurePath(r'C:\\Users\\q\\Anaconda3\\pkgs\\cudnn-7.6.4-cuda10.0_0\\Library\\include'))+os.environ['PATH']\n",
    "os.environ['PATH']=str(pathlib.PurePath(r'C:\\Users\\q\\Anaconda3\\pkgs\\cudnn-7.6.4-cuda10.0_0\\Library\\bin'))+os.environ['PATH']\n",
    "os.environ['PATH']=str(pathlib.PurePath(r'C:\\Users\\q\\Anaconda3\\pkgs\\cudnn-7.6.4-cuda10.0_0\\Library\\lib\\x64'))+os.environ['PATH']\n",
    "os.environ['PATH']=str(pathlib.PurePath(r'C:\\Users\\q\\Anaconda3\\pkgs\\cudatoolkit-10.0.130-0\\DLLs'))+os.environ['PATH']\n",
    "os.environ['PATH']=str(pathlib.PurePath(r'C:\\Users\\q\\Anaconda3\\pkgs\\cudatoolkit-10.0.130-0\\Library\\bin'))    +os.environ['PATH']\n",
    "print(os.environ['PATH'])"
   ]
  },
  {
   "cell_type": "code",
   "execution_count": 2,
   "metadata": {},
   "outputs": [
    {
     "name": "stdout",
     "output_type": "stream",
     "text": "Device mapping:\n/job:localhost/replica:0/task:0/device:GPU:0 -> device: 0, name: GeForce GTX 960, pci bus id: 0000:01:00.0, compute capability: 5.2\n\n"
    }
   ],
   "source": [
    "\"\"\"\n",
    "2019-11-30\n",
    "\n",
    "오리지널 주소 : https://www.tensorflow.org/tutorials/images/cnn\n",
    "위부분에 path지정하는곳 을 먼저 실행함.\n",
    "https://stackoverflow.com/a/59007505 에 나온 소스를 추가함.\n",
    "\n",
    "windows 10, anaconda환경에서 작업.\n",
    "cudatoolkit : 10.0.130\n",
    "cudnn : 7.6.4\n",
    "tensorflow : 2.0.0\n",
    "tensorflow-gpu : 2.0.0\n",
    "gpu : GTX 960 2GB\n",
    "\n",
    "\"\"\"\n",
    "#https://www.tensorflow.org/tutorials/images/cnn\n",
    "from __future__ import absolute_import, division, print_function, unicode_literals\n",
    "\n",
    "#!pip install -q tensorflow-gpu==2.0.0-rc1\n",
    "import tensorflow as tf\n",
    "\n",
    "from tensorflow.keras import datasets, layers, models\n",
    "\n",
    "(train_images, train_labels), (test_images, test_labels) = datasets.mnist.load_data()\n",
    "\n",
    "train_images = train_images.reshape((60000, 28, 28, 1))\n",
    "test_images = test_images.reshape((10000, 28, 28, 1))\n",
    "\n",
    "# 픽셀 값을 0~1 사이로 정규화합니다.\n",
    "train_images, test_images = train_images / 255.0, test_images / 255.0\n",
    "\n",
    "\n",
    "#https://stackoverflow.com/a/59007505 : Failed to get convolution algorithm. 오류\n",
    "from tensorflow.compat.v1.keras.backend import set_session\n",
    "config = tf.compat.v1.ConfigProto()\n",
    "config.gpu_options.allow_growth = True  # dynamically grow the memory used on the GPU\n",
    "config.log_device_placement = True  # to log device placement (on which device the operation ran)\n",
    "sess = tf.compat.v1.Session(config=config)\n",
    "set_session(sess)\n",
    "\n",
    "#tf.config.gpu.set_per_process_memory_growth(True)\n",
    "#config = tf.ConfigProto()\n",
    "#config.gpu_options.allow_growth = True\n",
    "#sess = tf.Session(config=config)"
   ]
  },
  {
   "cell_type": "code",
   "execution_count": 3,
   "metadata": {},
   "outputs": [
    {
     "name": "stdout",
     "output_type": "stream",
     "text": "Model: \"sequential\"\n_________________________________________________________________\nLayer (type)                 Output Shape              Param #   \n=================================================================\nconv2d (Conv2D)              (None, 26, 26, 32)        320       \n_________________________________________________________________\nmax_pooling2d (MaxPooling2D) (None, 13, 13, 32)        0         \n_________________________________________________________________\nconv2d_1 (Conv2D)            (None, 11, 11, 64)        18496     \n_________________________________________________________________\nmax_pooling2d_1 (MaxPooling2 (None, 5, 5, 64)          0         \n_________________________________________________________________\nconv2d_2 (Conv2D)            (None, 3, 3, 64)          36928     \n=================================================================\nTotal params: 55,744\nTrainable params: 55,744\nNon-trainable params: 0\n_________________________________________________________________\n"
    }
   ],
   "source": [
    "#합성곱층 만들기\n",
    "\"\"\"\n",
    "cnn 입력 : tensor : 이미지 눂이, 너비, 컬러\n",
    "\"\"\"\n",
    "model = models.Sequential()\n",
    "model.add(layers.Conv2D(32, (3, 3), activation='relu', input_shape=(28, 28, 1)))\n",
    "model.add(layers.MaxPooling2D((2, 2)))\n",
    "model.add(layers.Conv2D(64, (3, 3), activation='relu'))\n",
    "model.add(layers.MaxPooling2D((2, 2)))\n",
    "model.add(layers.Conv2D(64, (3, 3), activation='relu'))\n",
    "\n",
    "model.summary() #모델으 구조"
   ]
  },
  {
   "cell_type": "code",
   "execution_count": 4,
   "metadata": {},
   "outputs": [
    {
     "name": "stdout",
     "output_type": "stream",
     "text": "Model: \"sequential\"\n_________________________________________________________________\nLayer (type)                 Output Shape              Param #   \n=================================================================\nconv2d (Conv2D)              (None, 26, 26, 32)        320       \n_________________________________________________________________\nmax_pooling2d (MaxPooling2D) (None, 13, 13, 32)        0         \n_________________________________________________________________\nconv2d_1 (Conv2D)            (None, 11, 11, 64)        18496     \n_________________________________________________________________\nmax_pooling2d_1 (MaxPooling2 (None, 5, 5, 64)          0         \n_________________________________________________________________\nconv2d_2 (Conv2D)            (None, 3, 3, 64)          36928     \n_________________________________________________________________\nflatten (Flatten)            (None, 576)               0         \n_________________________________________________________________\ndense (Dense)                (None, 64)                36928     \n_________________________________________________________________\ndense_1 (Dense)              (None, 10)                650       \n=================================================================\nTotal params: 93,322\nTrainable params: 93,322\nNon-trainable params: 0\n_________________________________________________________________\n"
    }
   ],
   "source": [
    "#dense 층 추가.\n",
    "model.add(layers.Flatten())\n",
    "model.add(layers.Dense(64, activation='relu'))\n",
    "model.add(layers.Dense(10, activation='softmax'))\n",
    "\n",
    "model.summary()"
   ]
  },
  {
   "cell_type": "code",
   "execution_count": 5,
   "metadata": {},
   "outputs": [
    {
     "name": "stdout",
     "output_type": "stream",
     "text": "Train on 60000 samples\n60000/60000 [==============================] - 13s 220us/sample - loss: 0.1468 - accuracy: 0.9544\n"
    },
    {
     "data": {
      "text/plain": "<tensorflow.python.keras.callbacks.History at 0x2030e588a48>"
     },
     "execution_count": 5,
     "metadata": {},
     "output_type": "execute_result"
    }
   ],
   "source": [
    "\n",
    "\n",
    "#모델 컴파일과 훈련하기\n",
    "model.compile(optimizer='adam',\n",
    "              loss='sparse_categorical_crossentropy',\n",
    "              metrics=['accuracy'])\n",
    "\n",
    "model.fit(train_images, train_labels, epochs=1)"
   ]
  },
  {
   "cell_type": "code",
   "execution_count": 6,
   "metadata": {},
   "outputs": [
    {
     "name": "stdout",
     "output_type": "stream",
     "text": "10000/1 - 1s - loss: 0.0241 - accuracy: 0.9844\n"
    }
   ],
   "source": [
    "#모델 평가\n",
    "test_loss, test_acc = model.evaluate(test_images,  test_labels, verbose=2)"
   ]
  },
  {
   "cell_type": "code",
   "execution_count": null,
   "metadata": {},
   "outputs": [],
   "source": []
  }
 ],
 "metadata": {
  "kernelspec": {
   "display_name": "Python 3",
   "language": "python",
   "name": "python3"
  },
  "language_info": {
   "codemirror_mode": {
    "name": "ipython",
    "version": 3
   },
   "file_extension": ".py",
   "mimetype": "text/x-python",
   "name": "python",
   "nbconvert_exporter": "python",
   "pygments_lexer": "ipython3",
   "version": "3.7.4"
  }
 },
 "nbformat": 4,
 "nbformat_minor": 2
}