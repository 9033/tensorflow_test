{
 "nbformat": 4,
 "nbformat_minor": 2,
 "metadata": {
  "language_info": {
   "name": "python",
   "codemirror_mode": {
    "name": "ipython",
    "version": 3
   },
   "version": "3.7.4"
  },
  "orig_nbformat": 2,
  "file_extension": ".py",
  "mimetype": "text/x-python",
  "name": "python",
  "npconvert_exporter": "python",
  "pygments_lexer": "ipython3",
  "version": 3
 },
 "cells": [
  {
   "cell_type": "code",
   "execution_count": 1,
   "metadata": {},
   "outputs": [],
   "source": [
    "import sys\n",
    "import os\n",
    "#visual studio code에서 실행.\n",
    "if os.getcwd()+'\\\\tutorials' not in sys.path:\n",
    "    sys.path.append(os.getcwd()+'\\\\tutorials')"
   ]
  },
  {
   "cell_type": "code",
   "execution_count": 2,
   "metadata": {},
   "outputs": [],
   "source": [
    "#import codecs\n",
    "#from bs4 import BeautifulSoup\n",
    "from konlpy.tag import Okt\n",
    "#import urllib.request\n",
    "#import os, re, json, random\n",
    "import os, json\n",
    "from markov import * #markov.py"
   ]
  },
  {
   "cell_type": "code",
   "execution_count": 3,
   "metadata": {},
   "outputs": [
    {
     "name": "stdout",
     "output_type": "stream",
     "text": "비공개 로 논의 하자 공개 로 합시다 .\n---\n앞 으로 고쳐 가야겠지요 .\n---\n여러 가지 대북 지원이 중단 되어 있습니다 .\n---\n그런데 왜 하필 이면 그 좋은 금 싸라기 땅 에 묻혀 버렸지만 또 봄 이 오면 싹 이 트 고 올라오면서 바로 한반도 냉전 구조 해체 와 평화 구축 나아가서는 동북아시아 의 유사시 라는 것 이 안보 의 목적 아닙니까 그러나 고유 의 의미 에서 우리 가 이 점 은 참여정부 부터 받아들이는 것 이 요 .\n---\n왜 인력 을 더 줄일 수 있습니다 .\n---\n열 배 도 훨씬 넘는데 이 게 한해 두 해도 아니고 근 20년 간 이런 차이 가 너무 다른데 생각 도 다르고 다른데 상호주 의 아니겠어 간단하게 이렇게 얘기 하고 여러분 들 께서 이 자리 에서 누구 에게 들은 얘기 이고 이 것 이 아니라 장기 적 인 장사 아니겠냐 2 사단 빠지면 다 죽게 생긴 나라 에서 다 만들어 가지 고 있어야 된다는 거지 요 흔들어라 .\n---\n명색 이 국방부 장관 을 지낸 사람 들 이 큰일 났다 이 겁니다 .\n---\n있을 수 없지만 그러나 전쟁 과 유사시 를 항상 우리 는 한고비 넘어갔으니까 그것 도 지 마음대로 결정 못 하는 게 좀 빠른가 봐요 전부 어지럽다고 그래요 .\n---\n생명 이지 요 어느 정도 에 둘 거 냐 힘 의 비교 를 어느 정도 의 국방력 을 비교 하면 이제 2 사단 을 빼고 있으니까 이제 숫자 도 좀 더 노력 하겠습니다 .\n---\n예 그렇게 됐습니다 .\n---\n"
    }
   ],
   "source": [
    "# 문장 읽어 들이기 --- (※4)\n",
    "#toji_file = \"toji.txt\"\n",
    "dict_file = \"data\\\\markov-작통권.json\"\n",
    "if not os.path.exists(dict_file):\n",
    "    #text = text.replace(\"…\", \"\") # 현재 koNLPy가 …을 구두점으로 잡지 못하는 문제 임시 해결\n",
    "    작통권 = open(\"data\\\\작통권.txt\",\"tr\",encoding=\"utf-8\")\n",
    "    text = 작통권.read()\n",
    "    # 형태소 분석\n",
    "    twitter = Okt()\n",
    "    malist = twitter.pos(text, norm=True)\n",
    "    words = []\n",
    "    for word in malist:\n",
    "        # 구두점 등은 대상에서 제외(단 마침표는 포함)\n",
    "        if not word[1] in [\"Punctuation\"]:\n",
    "            words.append(word[0])\n",
    "        if word[0] == \".\":\n",
    "            words.append(word[0])\n",
    "    print(words)\n",
    "    # 딕셔너리 생성\n",
    "    dic = make_dic(words)\n",
    "    json.dump(dic, open(dict_file,\"w\", encoding=\"utf-8\"))\n",
    "else:\n",
    "    dic = json.load(open(dict_file,\"r\"))\n",
    "# 문장 만들기 --- (※6)\n",
    "for i in range(10):\n",
    "    s = make_sentence(dic)\n",
    "    print(s)\n",
    "    print(\"---\")"
   ]
  },
  {
   "cell_type": "code",
   "execution_count": null,
   "metadata": {},
   "outputs": [],
   "source": []
  }
 ]
}